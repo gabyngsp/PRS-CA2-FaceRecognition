{
 "cells": [
  {
   "cell_type": "code",
   "execution_count": 1,
   "metadata": {},
   "outputs": [
    {
     "name": "stderr",
     "output_type": "stream",
     "text": [
      "/usr/local/lib/python3.6/dist-packages/tensorflow/python/framework/dtypes.py:516: FutureWarning: Passing (type, 1) or '1type' as a synonym of type is deprecated; in a future version of numpy, it will be understood as (type, (1,)) / '(1,)type'.\n",
      "  _np_qint8 = np.dtype([(\"qint8\", np.int8, 1)])\n",
      "/usr/local/lib/python3.6/dist-packages/tensorflow/python/framework/dtypes.py:517: FutureWarning: Passing (type, 1) or '1type' as a synonym of type is deprecated; in a future version of numpy, it will be understood as (type, (1,)) / '(1,)type'.\n",
      "  _np_quint8 = np.dtype([(\"quint8\", np.uint8, 1)])\n",
      "/usr/local/lib/python3.6/dist-packages/tensorflow/python/framework/dtypes.py:518: FutureWarning: Passing (type, 1) or '1type' as a synonym of type is deprecated; in a future version of numpy, it will be understood as (type, (1,)) / '(1,)type'.\n",
      "  _np_qint16 = np.dtype([(\"qint16\", np.int16, 1)])\n",
      "/usr/local/lib/python3.6/dist-packages/tensorflow/python/framework/dtypes.py:519: FutureWarning: Passing (type, 1) or '1type' as a synonym of type is deprecated; in a future version of numpy, it will be understood as (type, (1,)) / '(1,)type'.\n",
      "  _np_quint16 = np.dtype([(\"quint16\", np.uint16, 1)])\n",
      "/usr/local/lib/python3.6/dist-packages/tensorflow/python/framework/dtypes.py:520: FutureWarning: Passing (type, 1) or '1type' as a synonym of type is deprecated; in a future version of numpy, it will be understood as (type, (1,)) / '(1,)type'.\n",
      "  _np_qint32 = np.dtype([(\"qint32\", np.int32, 1)])\n",
      "/usr/local/lib/python3.6/dist-packages/tensorflow/python/framework/dtypes.py:525: FutureWarning: Passing (type, 1) or '1type' as a synonym of type is deprecated; in a future version of numpy, it will be understood as (type, (1,)) / '(1,)type'.\n",
      "  np_resource = np.dtype([(\"resource\", np.ubyte, 1)])\n",
      "/usr/local/lib/python3.6/dist-packages/tensorboard/compat/tensorflow_stub/dtypes.py:541: FutureWarning: Passing (type, 1) or '1type' as a synonym of type is deprecated; in a future version of numpy, it will be understood as (type, (1,)) / '(1,)type'.\n",
      "  _np_qint8 = np.dtype([(\"qint8\", np.int8, 1)])\n",
      "/usr/local/lib/python3.6/dist-packages/tensorboard/compat/tensorflow_stub/dtypes.py:542: FutureWarning: Passing (type, 1) or '1type' as a synonym of type is deprecated; in a future version of numpy, it will be understood as (type, (1,)) / '(1,)type'.\n",
      "  _np_quint8 = np.dtype([(\"quint8\", np.uint8, 1)])\n",
      "/usr/local/lib/python3.6/dist-packages/tensorboard/compat/tensorflow_stub/dtypes.py:543: FutureWarning: Passing (type, 1) or '1type' as a synonym of type is deprecated; in a future version of numpy, it will be understood as (type, (1,)) / '(1,)type'.\n",
      "  _np_qint16 = np.dtype([(\"qint16\", np.int16, 1)])\n",
      "/usr/local/lib/python3.6/dist-packages/tensorboard/compat/tensorflow_stub/dtypes.py:544: FutureWarning: Passing (type, 1) or '1type' as a synonym of type is deprecated; in a future version of numpy, it will be understood as (type, (1,)) / '(1,)type'.\n",
      "  _np_quint16 = np.dtype([(\"quint16\", np.uint16, 1)])\n",
      "/usr/local/lib/python3.6/dist-packages/tensorboard/compat/tensorflow_stub/dtypes.py:545: FutureWarning: Passing (type, 1) or '1type' as a synonym of type is deprecated; in a future version of numpy, it will be understood as (type, (1,)) / '(1,)type'.\n",
      "  _np_qint32 = np.dtype([(\"qint32\", np.int32, 1)])\n",
      "/usr/local/lib/python3.6/dist-packages/tensorboard/compat/tensorflow_stub/dtypes.py:550: FutureWarning: Passing (type, 1) or '1type' as a synonym of type is deprecated; in a future version of numpy, it will be understood as (type, (1,)) / '(1,)type'.\n",
      "  np_resource = np.dtype([(\"resource\", np.ubyte, 1)])\n"
     ]
    }
   ],
   "source": [
    "import os\n",
    "os.environ[\"CUDA_VISIBLE_DEVICES\"]=\"0\"\n",
    "import pathlib\n",
    "import numpy as np\n",
    "import pandas as pd\n",
    "import sklearn.metrics as metrics\n",
    "from tensorflow.keras.models import load_model\n",
    "from tensorflow.keras.preprocessing.image import ImageDataGenerator\n",
    "from tensorflow.keras.preprocessing import image"
   ]
  },
  {
   "cell_type": "code",
   "execution_count": 2,
   "metadata": {},
   "outputs": [
    {
     "name": "stdout",
     "output_type": "stream",
     "text": [
      "testData\n",
      "['GabyNg', 'LeeSeng', 'XiaoYan']\n"
     ]
    }
   ],
   "source": [
    "pixel = 128\n",
    "batch_size = 128\n",
    "data_root_orig = './testData'\n",
    "data_root = pathlib.Path(data_root_orig)\n",
    "print(data_root)\n",
    "label_names = sorted(item.name for item in data_root.glob('*/') if item.is_dir())\n",
    "#label_names.remove('.ipynb_checkpoints')\n",
    "print(label_names)\n",
    "label_to_index = dict((name, i) for i, name in enumerate(label_names))"
   ]
  },
  {
   "cell_type": "code",
   "execution_count": 3,
   "metadata": {},
   "outputs": [
    {
     "name": "stdout",
     "output_type": "stream",
     "text": [
      "21\n"
     ]
    }
   ],
   "source": [
    "test_set_df = pd.read_csv('./test_GabyNg_set.csv')\n",
    "print(len(test_set_df))"
   ]
  },
  {
   "cell_type": "code",
   "execution_count": 4,
   "metadata": {},
   "outputs": [
    {
     "name": "stdout",
     "output_type": "stream",
     "text": [
      "Found 21 validated image filenames belonging to 3 classes.\n"
     ]
    }
   ],
   "source": [
    "rescale_datagen = ImageDataGenerator(\n",
    "    rescale=1.0/255,\n",
    "    width_shift_range=0.1,\n",
    "    height_shift_range=0.1,\n",
    "    rotation_range=20,\n",
    "    zoom_range=0.10,\n",
    "    shear_range=0.15,\n",
    "    horizontal_flip=False,\n",
    "    vertical_flip=False,\n",
    "    fill_mode='nearest')\n",
    "test_rescale_generator = rescale_datagen.flow_from_dataframe(dataframe=test_set_df, x_col=\"filename\", y_col=\"label\",\n",
    "                                                  class_mode=\"categorical\", target_size=(pixel, pixel),\n",
    "                                                  shuffle=False,\n",
    "                                                  batch_size=batch_size)"
   ]
  },
  {
   "cell_type": "code",
   "execution_count": 5,
   "metadata": {
    "scrolled": true
   },
   "outputs": [
    {
     "name": "stdout",
     "output_type": "stream",
     "text": [
      "WARNING:tensorflow:From /usr/local/lib/python3.6/dist-packages/tensorflow/python/ops/init_ops.py:97: calling GlorotUniform.__init__ (from tensorflow.python.ops.init_ops) with dtype is deprecated and will be removed in a future version.\n",
      "Instructions for updating:\n",
      "Call initializer instance with the dtype argument instead of passing it to the constructor\n",
      "WARNING:tensorflow:From /usr/local/lib/python3.6/dist-packages/tensorflow/python/ops/init_ops.py:1251: calling VarianceScaling.__init__ (from tensorflow.python.ops.init_ops) with dtype is deprecated and will be removed in a future version.\n",
      "Instructions for updating:\n",
      "Call initializer instance with the dtype argument instead of passing it to the constructor\n",
      "WARNING:tensorflow:From /usr/local/lib/python3.6/dist-packages/tensorflow/python/ops/init_ops.py:97: calling Zeros.__init__ (from tensorflow.python.ops.init_ops) with dtype is deprecated and will be removed in a future version.\n",
      "Instructions for updating:\n",
      "Call initializer instance with the dtype argument instead of passing it to the constructor\n",
      "Test Results for CNN using face only images in rescale data generator\n",
      "testout: [0 0 0 0 0 2 2 2 2 2 2 2 2 2 1 1 1 1 1 1 1]\n",
      "predout: [0 0 0 0 0 2 0 2 0 1 1 1 2 0 0 0 1 2 0 0 1]\n",
      "Batch size is 128\n",
      "Best accuracy (on testing dataset): 47.62%\n",
      "              precision    recall  f1-score   support\n",
      "\n",
      "      GabyNg     0.4167    1.0000    0.5882         5\n",
      "     LeeSeng     0.4000    0.2857    0.3333         7\n",
      "     XiaoYan     0.7500    0.3333    0.4615         9\n",
      "\n",
      "    accuracy                         0.4762        21\n",
      "   macro avg     0.5222    0.5397    0.4610        21\n",
      "weighted avg     0.5540    0.4762    0.4490        21\n",
      "\n",
      "[[5 0 0]\n",
      " [4 2 1]\n",
      " [3 3 3]]\n"
     ]
    }
   ],
   "source": [
    "modelname = 'model/face_cnn_rescale_b128_e100'\n",
    "filename = modelname+'.h5'\n",
    "model = load_model(filename)\n",
    "pred = model.predict(test_rescale_generator)\n",
    "\n",
    "predout = np.argmax(pred, axis=1)\n",
    "testout = test_set_df['label'].apply(lambda x: label_to_index[x]).values\n",
    "print('Test Results for CNN using face only images in rescale data generator')\n",
    "print('testout:', testout)\n",
    "print('predout:', predout)\n",
    "\n",
    "testScores = metrics.accuracy_score(testout, predout)\n",
    "confusion = metrics.confusion_matrix(testout, predout)\n",
    "\n",
    "print(\"Batch size is \"+ str(batch_size))\n",
    "print(\"Best accuracy (on testing dataset): %.2f%%\" % (testScores * 100))\n",
    "print(metrics.classification_report(testout, predout, labels=[0,1,2],target_names=label_names, digits=4))\n",
    "print(confusion)"
   ]
  },
  {
   "cell_type": "code",
   "execution_count": 6,
   "metadata": {
    "scrolled": true
   },
   "outputs": [
    {
     "name": "stdout",
     "output_type": "stream",
     "text": [
      "WARNING:tensorflow:From /usr/local/lib/python3.6/dist-packages/tensorflow/python/ops/init_ops.py:97: calling Ones.__init__ (from tensorflow.python.ops.init_ops) with dtype is deprecated and will be removed in a future version.\n",
      "Instructions for updating:\n",
      "Call initializer instance with the dtype argument instead of passing it to the constructor\n",
      "Test Results for ResNet using face only images in rescale data generator\n",
      "testout: [0 0 0 0 0 2 2 2 2 2 2 2 2 2 1 1 1 1 1 1 1]\n",
      "predout: [1 1 1 1 1 1 1 1 1 1 1 1 1 1 1 1 0 0 1 1 1]\n",
      "Batch size is 128\n",
      "Best accuracy (on testing dataset): 23.81%\n",
      "              precision    recall  f1-score   support\n",
      "\n",
      "      GabyNg     0.0000    0.0000    0.0000         5\n",
      "     LeeSeng     0.2632    0.7143    0.3846         7\n",
      "     XiaoYan     0.0000    0.0000    0.0000         9\n",
      "\n",
      "    accuracy                         0.2381        21\n",
      "   macro avg     0.0877    0.2381    0.1282        21\n",
      "weighted avg     0.0877    0.2381    0.1282        21\n",
      "\n",
      "[[0 5 0]\n",
      " [2 5 0]\n",
      " [0 9 0]]\n"
     ]
    },
    {
     "name": "stderr",
     "output_type": "stream",
     "text": [
      "/usr/local/lib/python3.6/dist-packages/sklearn/metrics/classification.py:1437: UndefinedMetricWarning: Precision and F-score are ill-defined and being set to 0.0 in labels with no predicted samples.\n",
      "  'precision', 'predicted', average, warn_for)\n"
     ]
    }
   ],
   "source": [
    "modelname = 'model/face_resnet_rescale_b128_e100'\n",
    "filename = modelname+'.h5'\n",
    "model = load_model(filename)\n",
    "pred = model.predict(test_rescale_generator)\n",
    "\n",
    "predout = np.argmax(pred, axis=1)\n",
    "testout = test_set_df['label'].apply(lambda x: label_to_index[x]).values\n",
    "print('Test Results for ResNet using face only images in rescale data generator')\n",
    "print('testout:', testout)\n",
    "print('predout:', predout)\n",
    "\n",
    "testScores = metrics.accuracy_score(testout, predout)\n",
    "confusion = metrics.confusion_matrix(testout, predout)\n",
    "\n",
    "print(\"Batch size is \"+ str(batch_size))\n",
    "print(\"Best accuracy (on testing dataset): %.2f%%\" % (testScores * 100))\n",
    "print(metrics.classification_report(testout, predout, labels=[0,1,2],target_names=label_names, digits=4))\n",
    "print(confusion)"
   ]
  },
  {
   "cell_type": "code",
   "execution_count": 7,
   "metadata": {},
   "outputs": [
    {
     "name": "stdout",
     "output_type": "stream",
     "text": [
      "Found 21 validated image filenames belonging to 3 classes.\n"
     ]
    }
   ],
   "source": [
    "sample_datagen = ImageDataGenerator(\n",
    "    samplewise_center=True,\n",
    "    samplewise_std_normalization=True,\n",
    "    width_shift_range=0.1,\n",
    "    height_shift_range=0.1,\n",
    "    rotation_range=20,\n",
    "    zoom_range=0.10,\n",
    "    shear_range=0.15,\n",
    "    horizontal_flip=False,\n",
    "    vertical_flip=False,\n",
    "    fill_mode='nearest')\n",
    "test_sample_generator = sample_datagen.flow_from_dataframe(dataframe=test_set_df, x_col=\"filename\", y_col=\"label\",\n",
    "                                                  class_mode=\"categorical\", target_size=(pixel, pixel),\n",
    "                                                  shuffle=False,\n",
    "                                                  batch_size=batch_size)"
   ]
  },
  {
   "cell_type": "code",
   "execution_count": 8,
   "metadata": {},
   "outputs": [
    {
     "name": "stdout",
     "output_type": "stream",
     "text": [
      "Test Results for CNN using face only images in samplewise data generator\n",
      "testout: [0 0 0 0 0 2 2 2 2 2 2 2 2 2 1 1 1 1 1 1 1]\n",
      "predout: [0 0 0 0 2 1 0 0 0 0 0 2 0 0 0 0 0 0 0 0 1]\n",
      "Batch size is 128\n",
      "Best accuracy (on testing dataset): 28.57%\n",
      "              precision    recall  f1-score   support\n",
      "\n",
      "      GabyNg     0.2353    0.8000    0.3636         5\n",
      "     LeeSeng     0.5000    0.1429    0.2222         7\n",
      "     XiaoYan     0.5000    0.1111    0.1818         9\n",
      "\n",
      "    accuracy                         0.2857        21\n",
      "   macro avg     0.4118    0.3513    0.2559        21\n",
      "weighted avg     0.4370    0.2857    0.2386        21\n",
      "\n",
      "[[4 0 1]\n",
      " [6 1 0]\n",
      " [7 1 1]]\n"
     ]
    }
   ],
   "source": [
    "modelname = 'model/face_cnn_sample_b128_e100'\n",
    "filename = modelname+'.h5'\n",
    "model = load_model(filename)\n",
    "pred = model.predict(test_sample_generator)\n",
    "\n",
    "predout = np.argmax(pred, axis=1)\n",
    "testout = test_set_df['label'].apply(lambda x: label_to_index[x]).values\n",
    "print('Test Results for CNN using face only images in samplewise data generator')\n",
    "print('testout:', testout)\n",
    "print('predout:', predout)\n",
    "\n",
    "testScores = metrics.accuracy_score(testout, predout)\n",
    "confusion = metrics.confusion_matrix(testout, predout)\n",
    "\n",
    "print(\"Batch size is \"+ str(batch_size))\n",
    "print(\"Best accuracy (on testing dataset): %.2f%%\" % (testScores * 100))\n",
    "print(metrics.classification_report(testout, predout, labels=[0,1,2],target_names=label_names, digits=4))\n",
    "print(confusion)"
   ]
  },
  {
   "cell_type": "code",
   "execution_count": 9,
   "metadata": {},
   "outputs": [
    {
     "name": "stdout",
     "output_type": "stream",
     "text": [
      "Test Results for ResNet using face only images in samplewise data generator\n",
      "testout: [0 0 0 0 0 2 2 2 2 2 2 2 2 2 1 1 1 1 1 1 1]\n",
      "predout: [1 0 0 0 0 1 0 0 0 0 1 0 1 0 1 0 1 1 1 0 1]\n",
      "Batch size is 128\n",
      "Best accuracy (on testing dataset): 42.86%\n",
      "              precision    recall  f1-score   support\n",
      "\n",
      "      GabyNg     0.3333    0.8000    0.4706         5\n",
      "     LeeSeng     0.5556    0.7143    0.6250         7\n",
      "     XiaoYan     0.0000    0.0000    0.0000         9\n",
      "\n",
      "    accuracy                         0.4286        21\n",
      "   macro avg     0.2963    0.5048    0.3652        21\n",
      "weighted avg     0.2646    0.4286    0.3204        21\n",
      "\n",
      "[[4 1 0]\n",
      " [2 5 0]\n",
      " [6 3 0]]\n"
     ]
    },
    {
     "name": "stderr",
     "output_type": "stream",
     "text": [
      "/usr/local/lib/python3.6/dist-packages/sklearn/metrics/classification.py:1437: UndefinedMetricWarning: Precision and F-score are ill-defined and being set to 0.0 in labels with no predicted samples.\n",
      "  'precision', 'predicted', average, warn_for)\n"
     ]
    }
   ],
   "source": [
    "modelname = 'model/face_resnet_sample_b128_e100'\n",
    "filename = modelname+'.h5'\n",
    "model = load_model(filename)\n",
    "pred = model.predict(test_sample_generator)\n",
    "\n",
    "predout = np.argmax(pred, axis=1)\n",
    "testout = test_set_df['label'].apply(lambda x: label_to_index[x]).values\n",
    "print('Test Results for ResNet using face only images in samplewise data generator')\n",
    "print('testout:', testout)\n",
    "print('predout:', predout)\n",
    "\n",
    "testScores = metrics.accuracy_score(testout, predout)\n",
    "confusion = metrics.confusion_matrix(testout, predout)\n",
    "\n",
    "print(\"Batch size is \"+ str(batch_size))\n",
    "print(\"Best accuracy (on testing dataset): %.2f%%\" % (testScores * 100))\n",
    "print(metrics.classification_report(testout, predout, labels=[0,1,2],target_names=label_names, digits=4))\n",
    "print(confusion)"
   ]
  },
  {
   "cell_type": "code",
   "execution_count": 10,
   "metadata": {},
   "outputs": [
    {
     "name": "stdout",
     "output_type": "stream",
     "text": [
      "Found 21 validated image filenames belonging to 3 classes.\n"
     ]
    }
   ],
   "source": [
    "sample_rescale_datagen = ImageDataGenerator(\n",
    "    samplewise_center=True,\n",
    "    samplewise_std_normalization=True,\n",
    "    rescale=1.0/255,\n",
    "    width_shift_range=0.1,\n",
    "    height_shift_range=0.1,\n",
    "    rotation_range=20,\n",
    "    zoom_range=0.10,\n",
    "    shear_range=0.15,\n",
    "    horizontal_flip=False,\n",
    "    vertical_flip=False,\n",
    "    fill_mode='nearest')\n",
    "test_sample_rescale_generator = sample_rescale_datagen.flow_from_dataframe(dataframe=test_set_df, x_col=\"filename\", y_col=\"label\",\n",
    "                                                  class_mode=\"categorical\", target_size=(pixel, pixel),\n",
    "                                                  shuffle=False,\n",
    "                                                  batch_size=batch_size)"
   ]
  },
  {
   "cell_type": "code",
   "execution_count": 11,
   "metadata": {},
   "outputs": [
    {
     "name": "stdout",
     "output_type": "stream",
     "text": [
      "Test Results for CNN using face only images in samplewise and rescale data generator\n",
      "testout: [0 0 0 0 0 2 2 2 2 2 2 2 2 2 1 1 1 1 1 1 1]\n",
      "predout: [0 0 0 0 0 0 0 0 0 1 2 1 1 0 0 0 0 0 0 0 1]\n",
      "Batch size is 128\n",
      "Best accuracy (on testing dataset): 33.33%\n",
      "              precision    recall  f1-score   support\n",
      "\n",
      "      GabyNg     0.3125    1.0000    0.4762         5\n",
      "     LeeSeng     0.2500    0.1429    0.1818         7\n",
      "     XiaoYan     1.0000    0.1111    0.2000         9\n",
      "\n",
      "    accuracy                         0.3333        21\n",
      "   macro avg     0.5208    0.4180    0.2860        21\n",
      "weighted avg     0.5863    0.3333    0.2597        21\n",
      "\n",
      "[[5 0 0]\n",
      " [6 1 0]\n",
      " [5 3 1]]\n"
     ]
    }
   ],
   "source": [
    "modelname = 'model/face_cnn_sample_rescale_b128_e100'\n",
    "filename = modelname+'.h5'\n",
    "model = load_model(filename)\n",
    "pred = model.predict(test_sample_rescale_generator)\n",
    "\n",
    "predout = np.argmax(pred, axis=1)\n",
    "testout = test_set_df['label'].apply(lambda x: label_to_index[x]).values\n",
    "print('Test Results for CNN using face only images in samplewise and rescale data generator')\n",
    "print('testout:', testout)\n",
    "print('predout:', predout)\n",
    "\n",
    "testScores = metrics.accuracy_score(testout, predout)\n",
    "confusion = metrics.confusion_matrix(testout, predout)\n",
    "\n",
    "print(\"Batch size is \"+ str(batch_size))\n",
    "print(\"Best accuracy (on testing dataset): %.2f%%\" % (testScores * 100))\n",
    "print(metrics.classification_report(testout, predout, labels=[0,1,2],target_names=label_names, digits=4))\n",
    "print(confusion)"
   ]
  },
  {
   "cell_type": "code",
   "execution_count": 12,
   "metadata": {},
   "outputs": [
    {
     "name": "stdout",
     "output_type": "stream",
     "text": [
      "Test Results for ResNet using face only images in samplewise and rescale data generator\n",
      "testout: [0 0 0 0 0 2 2 2 2 2 2 2 2 2 1 1 1 1 1 1 1]\n",
      "predout: [0 0 1 1 0 2 2 2 1 0 2 0 0 0 1 1 1 1 1 0 1]\n",
      "Batch size is 128\n",
      "Best accuracy (on testing dataset): 61.90%\n",
      "              precision    recall  f1-score   support\n",
      "\n",
      "      GabyNg     0.3750    0.6000    0.4615         5\n",
      "     LeeSeng     0.6667    0.8571    0.7500         7\n",
      "     XiaoYan     1.0000    0.4444    0.6154         9\n",
      "\n",
      "    accuracy                         0.6190        21\n",
      "   macro avg     0.6806    0.6339    0.6090        21\n",
      "weighted avg     0.7401    0.6190    0.6236        21\n",
      "\n",
      "[[3 2 0]\n",
      " [1 6 0]\n",
      " [4 1 4]]\n"
     ]
    }
   ],
   "source": [
    "modelname = 'model/face_resnet_sample_rescale_b128_e100'\n",
    "filename = modelname+'.h5'\n",
    "model = load_model(filename)\n",
    "pred = model.predict(test_sample_rescale_generator)\n",
    "\n",
    "predout = np.argmax(pred, axis=1)\n",
    "testout = test_set_df['label'].apply(lambda x: label_to_index[x]).values\n",
    "print('Test Results for ResNet using face only images in samplewise and rescale data generator')\n",
    "print('testout:', testout)\n",
    "print('predout:', predout)\n",
    "\n",
    "testScores = metrics.accuracy_score(testout, predout)\n",
    "confusion = metrics.confusion_matrix(testout, predout)\n",
    "\n",
    "print(\"Batch size is \"+ str(batch_size))\n",
    "print(\"Best accuracy (on testing dataset): %.2f%%\" % (testScores * 100))\n",
    "print(metrics.classification_report(testout, predout, labels=[0,1,2],target_names=label_names, digits=4))\n",
    "print(confusion)"
   ]
  },
  {
   "cell_type": "code",
   "execution_count": 13,
   "metadata": {},
   "outputs": [
    {
     "name": "stdout",
     "output_type": "stream",
     "text": [
      "Test Results for ResNet V2 using face only images in samplewise and rescale data generator\n",
      "testout: [0 0 0 0 0 2 2 2 2 2 2 2 2 2 1 1 1 1 1 1 1]\n",
      "predout: [0 0 0 0 0 2 0 1 1 0 1 0 1 0 1 0 1 1 1 0 1]\n",
      "Batch size is 128\n",
      "Best accuracy (on testing dataset): 52.38%\n",
      "              precision    recall  f1-score   support\n",
      "\n",
      "      GabyNg     0.4545    1.0000    0.6250         5\n",
      "     LeeSeng     0.5556    0.7143    0.6250         7\n",
      "     XiaoYan     1.0000    0.1111    0.2000         9\n",
      "\n",
      "    accuracy                         0.5238        21\n",
      "   macro avg     0.6700    0.6085    0.4833        21\n",
      "weighted avg     0.7220    0.5238    0.4429        21\n",
      "\n",
      "[[5 0 0]\n",
      " [2 5 0]\n",
      " [4 4 1]]\n"
     ]
    }
   ],
   "source": [
    "modelname = 'model/face_resnet2_sample_rescale_b128_e100'\n",
    "filename = modelname+'.h5'\n",
    "model = load_model(filename)\n",
    "pred = model.predict(test_sample_rescale_generator)\n",
    "\n",
    "predout = np.argmax(pred, axis=1)\n",
    "testout = test_set_df['label'].apply(lambda x: label_to_index[x]).values\n",
    "print('Test Results for ResNet V2 using face only images in samplewise and rescale data generator')\n",
    "print('testout:', testout)\n",
    "print('predout:', predout)\n",
    "\n",
    "testScores = metrics.accuracy_score(testout, predout)\n",
    "confusion = metrics.confusion_matrix(testout, predout)\n",
    "\n",
    "print(\"Batch size is \"+ str(batch_size))\n",
    "print(\"Best accuracy (on testing dataset): %.2f%%\" % (testScores * 100))\n",
    "print(metrics.classification_report(testout, predout, labels=[0,1,2],target_names=label_names, digits=4))\n",
    "print(confusion)"
   ]
  },
  {
   "cell_type": "code",
   "execution_count": null,
   "metadata": {},
   "outputs": [],
   "source": []
  }
 ],
 "metadata": {
  "kernelspec": {
   "display_name": "Python 3",
   "language": "python",
   "name": "python3"
  },
  "language_info": {
   "codemirror_mode": {
    "name": "ipython",
    "version": 3
   },
   "file_extension": ".py",
   "mimetype": "text/x-python",
   "name": "python",
   "nbconvert_exporter": "python",
   "pygments_lexer": "ipython3",
   "version": "3.6.8"
  }
 },
 "nbformat": 4,
 "nbformat_minor": 2
}
