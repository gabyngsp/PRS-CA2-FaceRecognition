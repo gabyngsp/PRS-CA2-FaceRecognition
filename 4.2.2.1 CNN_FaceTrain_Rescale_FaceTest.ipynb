{
 "cells": [
  {
   "cell_type": "code",
   "execution_count": 1,
   "metadata": {},
   "outputs": [
    {
     "name": "stderr",
     "output_type": "stream",
     "text": [
      "/usr/local/lib/python3.6/dist-packages/tensorflow/python/framework/dtypes.py:516: FutureWarning: Passing (type, 1) or '1type' as a synonym of type is deprecated; in a future version of numpy, it will be understood as (type, (1,)) / '(1,)type'.\n",
      "  _np_qint8 = np.dtype([(\"qint8\", np.int8, 1)])\n",
      "/usr/local/lib/python3.6/dist-packages/tensorflow/python/framework/dtypes.py:517: FutureWarning: Passing (type, 1) or '1type' as a synonym of type is deprecated; in a future version of numpy, it will be understood as (type, (1,)) / '(1,)type'.\n",
      "  _np_quint8 = np.dtype([(\"quint8\", np.uint8, 1)])\n",
      "/usr/local/lib/python3.6/dist-packages/tensorflow/python/framework/dtypes.py:518: FutureWarning: Passing (type, 1) or '1type' as a synonym of type is deprecated; in a future version of numpy, it will be understood as (type, (1,)) / '(1,)type'.\n",
      "  _np_qint16 = np.dtype([(\"qint16\", np.int16, 1)])\n",
      "/usr/local/lib/python3.6/dist-packages/tensorflow/python/framework/dtypes.py:519: FutureWarning: Passing (type, 1) or '1type' as a synonym of type is deprecated; in a future version of numpy, it will be understood as (type, (1,)) / '(1,)type'.\n",
      "  _np_quint16 = np.dtype([(\"quint16\", np.uint16, 1)])\n",
      "/usr/local/lib/python3.6/dist-packages/tensorflow/python/framework/dtypes.py:520: FutureWarning: Passing (type, 1) or '1type' as a synonym of type is deprecated; in a future version of numpy, it will be understood as (type, (1,)) / '(1,)type'.\n",
      "  _np_qint32 = np.dtype([(\"qint32\", np.int32, 1)])\n",
      "/usr/local/lib/python3.6/dist-packages/tensorflow/python/framework/dtypes.py:525: FutureWarning: Passing (type, 1) or '1type' as a synonym of type is deprecated; in a future version of numpy, it will be understood as (type, (1,)) / '(1,)type'.\n",
      "  np_resource = np.dtype([(\"resource\", np.ubyte, 1)])\n",
      "/usr/local/lib/python3.6/dist-packages/tensorboard/compat/tensorflow_stub/dtypes.py:541: FutureWarning: Passing (type, 1) or '1type' as a synonym of type is deprecated; in a future version of numpy, it will be understood as (type, (1,)) / '(1,)type'.\n",
      "  _np_qint8 = np.dtype([(\"qint8\", np.int8, 1)])\n",
      "/usr/local/lib/python3.6/dist-packages/tensorboard/compat/tensorflow_stub/dtypes.py:542: FutureWarning: Passing (type, 1) or '1type' as a synonym of type is deprecated; in a future version of numpy, it will be understood as (type, (1,)) / '(1,)type'.\n",
      "  _np_quint8 = np.dtype([(\"quint8\", np.uint8, 1)])\n",
      "/usr/local/lib/python3.6/dist-packages/tensorboard/compat/tensorflow_stub/dtypes.py:543: FutureWarning: Passing (type, 1) or '1type' as a synonym of type is deprecated; in a future version of numpy, it will be understood as (type, (1,)) / '(1,)type'.\n",
      "  _np_qint16 = np.dtype([(\"qint16\", np.int16, 1)])\n",
      "/usr/local/lib/python3.6/dist-packages/tensorboard/compat/tensorflow_stub/dtypes.py:544: FutureWarning: Passing (type, 1) or '1type' as a synonym of type is deprecated; in a future version of numpy, it will be understood as (type, (1,)) / '(1,)type'.\n",
      "  _np_quint16 = np.dtype([(\"quint16\", np.uint16, 1)])\n",
      "/usr/local/lib/python3.6/dist-packages/tensorboard/compat/tensorflow_stub/dtypes.py:545: FutureWarning: Passing (type, 1) or '1type' as a synonym of type is deprecated; in a future version of numpy, it will be understood as (type, (1,)) / '(1,)type'.\n",
      "  _np_qint32 = np.dtype([(\"qint32\", np.int32, 1)])\n",
      "/usr/local/lib/python3.6/dist-packages/tensorboard/compat/tensorflow_stub/dtypes.py:550: FutureWarning: Passing (type, 1) or '1type' as a synonym of type is deprecated; in a future version of numpy, it will be understood as (type, (1,)) / '(1,)type'.\n",
      "  np_resource = np.dtype([(\"resource\", np.ubyte, 1)])\n"
     ]
    }
   ],
   "source": [
    "import os\n",
    "os.environ[\"CUDA_VISIBLE_DEVICES\"]=\"1\"\n",
    "import pathlib\n",
    "import numpy as np\n",
    "import pandas as pd\n",
    "import sklearn.metrics as metrics\n",
    "from tensorflow.keras.models import load_model\n",
    "from tensorflow.keras.preprocessing.image import ImageDataGenerator\n",
    "from tensorflow.keras.preprocessing import image"
   ]
  },
  {
   "cell_type": "code",
   "execution_count": 2,
   "metadata": {},
   "outputs": [
    {
     "name": "stdout",
     "output_type": "stream",
     "text": [
      "testData\n",
      "['GabyNg', 'LeeSeng', 'XiaoYan']\n"
     ]
    }
   ],
   "source": [
    "data_root_orig = './testData'\n",
    "data_root = pathlib.Path(data_root_orig)\n",
    "print(data_root)\n",
    "label_names = sorted(item.name for item in data_root.glob('*/') if item.is_dir())\n",
    "print(label_names)\n",
    "label_to_index = dict((name, i) for i, name in enumerate(label_names))"
   ]
  },
  {
   "cell_type": "code",
   "execution_count": 3,
   "metadata": {
    "scrolled": true
   },
   "outputs": [
    {
     "name": "stdout",
     "output_type": "stream",
     "text": [
      "21\n"
     ]
    }
   ],
   "source": [
    "test_set_df = pd.read_csv('./test_GabyNg_face_set.csv')\n",
    "print(len(test_set_df))"
   ]
  },
  {
   "cell_type": "code",
   "execution_count": 4,
   "metadata": {},
   "outputs": [],
   "source": [
    "pixel = 128\n",
    "batch_size = 128\n",
    "tdatagen_rescale = ImageDataGenerator(\n",
    "    rescale=1./255,\n",
    "    width_shift_range=0,\n",
    "    height_shift_range=0,\n",
    "    rotation_range=0,\n",
    "    zoom_range=0,\n",
    "    # shear_range=0.15,\n",
    "    horizontal_flip=False,\n",
    "    vertical_flip=False,\n",
    "    fill_mode='nearest')"
   ]
  },
  {
   "cell_type": "code",
   "execution_count": 5,
   "metadata": {},
   "outputs": [
    {
     "name": "stdout",
     "output_type": "stream",
     "text": [
      "WARNING:tensorflow:From /usr/local/lib/python3.6/dist-packages/tensorflow/python/ops/init_ops.py:97: calling GlorotUniform.__init__ (from tensorflow.python.ops.init_ops) with dtype is deprecated and will be removed in a future version.\n",
      "Instructions for updating:\n",
      "Call initializer instance with the dtype argument instead of passing it to the constructor\n",
      "WARNING:tensorflow:From /usr/local/lib/python3.6/dist-packages/tensorflow/python/ops/init_ops.py:1251: calling VarianceScaling.__init__ (from tensorflow.python.ops.init_ops) with dtype is deprecated and will be removed in a future version.\n",
      "Instructions for updating:\n",
      "Call initializer instance with the dtype argument instead of passing it to the constructor\n",
      "WARNING:tensorflow:From /usr/local/lib/python3.6/dist-packages/tensorflow/python/ops/init_ops.py:97: calling Zeros.__init__ (from tensorflow.python.ops.init_ops) with dtype is deprecated and will be removed in a future version.\n",
      "Instructions for updating:\n",
      "Call initializer instance with the dtype argument instead of passing it to the constructor\n"
     ]
    }
   ],
   "source": [
    "filename_rescale = 'model/face_cnn_rescale_model.h5'\n",
    "face_rescale = load_model(filename_rescale)"
   ]
  },
  {
   "cell_type": "code",
   "execution_count": 6,
   "metadata": {},
   "outputs": [
    {
     "name": "stdout",
     "output_type": "stream",
     "text": [
      "Found 21 validated image filenames belonging to 3 classes.\n"
     ]
    }
   ],
   "source": [
    "test_generator = tdatagen_rescale.flow_from_dataframe(dataframe=test_set_df, x_col=\"filename\",\n",
    "                                                                y_col=\"label\",\n",
    "                                                                class_mode=\"categorical\",\n",
    "                                                                target_size=(pixel, pixel),\n",
    "                                                                shuffle=False,\n",
    "                                                                batch_size=128)"
   ]
  },
  {
   "cell_type": "code",
   "execution_count": 7,
   "metadata": {},
   "outputs": [],
   "source": [
    "pred_rescale = face_rescale.predict(test_generator)"
   ]
  },
  {
   "cell_type": "code",
   "execution_count": 8,
   "metadata": {},
   "outputs": [
    {
     "name": "stdout",
     "output_type": "stream",
     "text": [
      "testout: [0 0 0 0 0 2 2 2 2 2 2 2 2 2 1 1 1 1 1 1 1]\n",
      "predout: [1 0 0 0 0 2 2 2 2 2 2 2 2 0 1 0 1 1 1 2 1]\n",
      "Best accuracy (on testing dataset): 80.95%\n",
      "              precision    recall  f1-score   support\n",
      "\n",
      "      GabyNg     0.6667    0.8000    0.7273         5\n",
      "     LeeSeng     0.8333    0.7143    0.7692         7\n",
      "     XiaoYan     0.8889    0.8889    0.8889         9\n",
      "\n",
      "    accuracy                         0.8095        21\n",
      "   macro avg     0.7963    0.8011    0.7951        21\n",
      "weighted avg     0.8175    0.8095    0.8105        21\n",
      "\n",
      "[[4 1 0]\n",
      " [1 5 1]\n",
      " [1 0 8]]\n"
     ]
    }
   ],
   "source": [
    "predout_rescale = np.argmax(pred_rescale, axis=1)\n",
    "testout_rescale = test_set_df['label'].apply(lambda x: label_to_index[x]).values\n",
    "print('testout:', testout_rescale)\n",
    "print('predout:', predout_rescale)\n",
    "\n",
    "testScores_rescale = metrics.accuracy_score(testout_rescale, predout_rescale)\n",
    "confusion_rescale = metrics.confusion_matrix(testout_rescale, predout_rescale)\n",
    "\n",
    "print(\"Best accuracy (on testing dataset): %.2f%%\" % (testScores_rescale * 100))\n",
    "print(metrics.classification_report(testout_rescale, predout_rescale, labels=[0,1,2],target_names=label_names, digits=4))\n",
    "print(confusion_rescale)"
   ]
  },
  {
   "cell_type": "code",
   "execution_count": 9,
   "metadata": {},
   "outputs": [],
   "source": [
    "filename_sample = 'model/face_cnn_sample_b128_e100.h5'\n",
    "face_sample = load_model(filename_sample)"
   ]
  },
  {
   "cell_type": "code",
   "execution_count": 10,
   "metadata": {},
   "outputs": [],
   "source": [
    "tdatagen_sample = ImageDataGenerator(\n",
    "    samplewise_center=True,\n",
    "    samplewise_std_normalization=True,\n",
    "    width_shift_range=0,\n",
    "    height_shift_range=0,\n",
    "    rotation_range=0,\n",
    "    zoom_range=0,\n",
    "    shear_range=0,\n",
    "    horizontal_flip=False,\n",
    "    vertical_flip=False,\n",
    "    fill_mode='nearest')"
   ]
  },
  {
   "cell_type": "code",
   "execution_count": 11,
   "metadata": {},
   "outputs": [
    {
     "name": "stdout",
     "output_type": "stream",
     "text": [
      "Found 21 validated image filenames belonging to 3 classes.\n"
     ]
    }
   ],
   "source": [
    "test_generator_sample = tdatagen_sample.flow_from_dataframe(dataframe=test_set_df, x_col=\"filename\",\n",
    "                                                                y_col=\"label\",\n",
    "                                                                class_mode=\"categorical\",\n",
    "                                                                target_size=(pixel, pixel),\n",
    "                                                                shuffle=False,\n",
    "                                                                batch_size=128)"
   ]
  },
  {
   "cell_type": "code",
   "execution_count": 12,
   "metadata": {},
   "outputs": [],
   "source": [
    "pred_sample = face_sample.predict(test_generator_sample)"
   ]
  },
  {
   "cell_type": "code",
   "execution_count": 13,
   "metadata": {},
   "outputs": [
    {
     "name": "stdout",
     "output_type": "stream",
     "text": [
      "testout: [0 0 0 0 0 2 2 2 2 2 2 2 2 2 1 1 1 1 1 1 1]\n",
      "predout: [1 0 0 0 0 2 2 0 2 2 2 2 2 2 1 1 1 1 1 2 1]\n",
      "Best accuracy (on testing dataset): 85.71%\n",
      "              precision    recall  f1-score   support\n",
      "\n",
      "      GabyNg     0.8000    0.8000    0.8000         5\n",
      "     LeeSeng     0.8571    0.8571    0.8571         7\n",
      "     XiaoYan     0.8889    0.8889    0.8889         9\n",
      "\n",
      "    accuracy                         0.8571        21\n",
      "   macro avg     0.8487    0.8487    0.8487        21\n",
      "weighted avg     0.8571    0.8571    0.8571        21\n",
      "\n",
      "[[4 1 0]\n",
      " [0 6 1]\n",
      " [1 0 8]]\n"
     ]
    }
   ],
   "source": [
    "predout_sample = np.argmax(pred_sample, axis=1)\n",
    "testout_sample = test_set_df['label'].apply(lambda x: label_to_index[x]).values\n",
    "print('testout:', testout_sample)\n",
    "print('predout:', predout_sample)\n",
    "\n",
    "testScores_sample = metrics.accuracy_score(testout_sample, predout_sample)\n",
    "confusion_sample = metrics.confusion_matrix(testout_sample, predout_sample)\n",
    "\n",
    "print(\"Best accuracy (on testing dataset): %.2f%%\" % (testScores_sample * 100))\n",
    "print(metrics.classification_report(testout_sample, predout_sample, labels=[0,1,2],target_names=label_names, digits=4))\n",
    "print(confusion_sample)"
   ]
  },
  {
   "cell_type": "code",
   "execution_count": null,
   "metadata": {},
   "outputs": [],
   "source": []
  }
 ],
 "metadata": {
  "kernelspec": {
   "display_name": "Python 3",
   "language": "python",
   "name": "python3"
  },
  "language_info": {
   "codemirror_mode": {
    "name": "ipython",
    "version": 3
   },
   "file_extension": ".py",
   "mimetype": "text/x-python",
   "name": "python",
   "nbconvert_exporter": "python",
   "pygments_lexer": "ipython3",
   "version": "3.7.4"
  }
 },
 "nbformat": 4,
 "nbformat_minor": 2
}
